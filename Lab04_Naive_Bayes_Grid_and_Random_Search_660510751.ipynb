{
  "cells": [
    {
      "cell_type": "markdown",
      "metadata": {
        "id": "view-in-github",
        "colab_type": "text"
      },
      "source": [
        "<a href=\"https://colab.research.google.com/github/SoyMilkQwQ/229352-StatisticalLearning-or-Statistical-Learning-Labs-qxq./blob/main/Lab04_Naive_Bayes_Grid_and_Random_Search_660510751.ipynb\" target=\"_parent\"><img src=\"https://colab.research.google.com/assets/colab-badge.svg\" alt=\"Open In Colab\"/></a>"
      ]
    },
    {
      "cell_type": "markdown",
      "id": "e9252fd0-8fb3-4237-a32c-d2ae904aeba1",
      "metadata": {
        "id": "e9252fd0-8fb3-4237-a32c-d2ae904aeba1"
      },
      "source": [
        "### Statistical Learning for Data Science 2 (229352)\n",
        "#### Instructor: Donlapark Ponnoprat\n",
        "\n",
        "#### [Course website](https://donlapark.pages.dev/229352/)\n",
        "\n",
        "## Lab #4"
      ]
    },
    {
      "cell_type": "code",
      "execution_count": 1,
      "id": "70b30d42-2935-4d97-afb4-51b444e01360",
      "metadata": {
        "id": "70b30d42-2935-4d97-afb4-51b444e01360"
      },
      "outputs": [],
      "source": [
        "from sklearn.datasets import fetch_20newsgroups\n",
        "from sklearn.feature_extraction.text import TfidfVectorizer\n",
        "from sklearn.metrics import classification_report\n",
        "from sklearn.model_selection import GridSearchCV, RandomizedSearchCV\n",
        "from sklearn.metrics import f1_score\n",
        "from sklearn.naive_bayes import MultinomialNB\n",
        "from sklearn.pipeline import Pipeline\n",
        "\n",
        "from scipy.stats import uniform"
      ]
    },
    {
      "cell_type": "code",
      "execution_count": 2,
      "id": "b4116b7d-ca3e-4e82-8452-ec6b220bb328",
      "metadata": {
        "colab": {
          "base_uri": "https://localhost:8080/"
        },
        "id": "b4116b7d-ca3e-4e82-8452-ec6b220bb328",
        "outputId": "27f83faa-9be0-4dcc-b352-d9e149760d79"
      },
      "outputs": [
        {
          "output_type": "stream",
          "name": "stdout",
          "text": [
            "X: 500\n",
            "y: 500\n"
          ]
        }
      ],
      "source": [
        "train = fetch_20newsgroups(subset='train')\n",
        "test = fetch_20newsgroups(subset='test')\n",
        "\n",
        "Xtrain = train.data[:3000]\n",
        "ytrain = train.target[:3000]\n",
        "Xtest = test.data[:500]\n",
        "ytest = test.target[:500]\n",
        "\n",
        "print(\"X:\", len(Xtest))\n",
        "print(\"y:\", len(ytest))"
      ]
    },
    {
      "cell_type": "markdown",
      "id": "452ca0da-2658-4daa-85be-d42ea298fe07",
      "metadata": {
        "id": "452ca0da-2658-4daa-85be-d42ea298fe07"
      },
      "source": [
        "### Naive Bayes [(Documentation)](https://scikit-learn.org/stable/modules/generated/sklearn.naive_bayes.MultinomialNB.html)"
      ]
    },
    {
      "cell_type": "code",
      "execution_count": 3,
      "id": "4c0a43c4",
      "metadata": {
        "colab": {
          "base_uri": "https://localhost:8080/"
        },
        "id": "4c0a43c4",
        "outputId": "22c88cbc-4d9b-43a1-e3c3-d31f6879de0c"
      },
      "outputs": [
        {
          "output_type": "stream",
          "name": "stdout",
          "text": [
            "                          precision    recall  f1-score   support\n",
            "\n",
            "             alt.atheism       0.83      0.24      0.37        21\n",
            "           comp.graphics       0.83      0.24      0.37        21\n",
            " comp.os.ms-windows.misc       0.71      0.65      0.68        26\n",
            "comp.sys.ibm.pc.hardware       0.73      0.56      0.63        34\n",
            "   comp.sys.mac.hardware       0.73      0.79      0.76        34\n",
            "          comp.windows.x       0.95      0.81      0.88        26\n",
            "            misc.forsale       1.00      0.50      0.67        22\n",
            "               rec.autos       0.67      1.00      0.80        28\n",
            "         rec.motorcycles       0.96      0.73      0.83        33\n",
            "      rec.sport.baseball       0.91      0.84      0.88        25\n",
            "        rec.sport.hockey       0.85      0.85      0.85        27\n",
            "               sci.crypt       0.58      0.95      0.72        20\n",
            "         sci.electronics       0.56      0.38      0.45        24\n",
            "                 sci.med       0.81      0.57      0.67        23\n",
            "               sci.space       0.85      0.39      0.54        28\n",
            "  soc.religion.christian       0.27      1.00      0.42        29\n",
            "      talk.politics.guns       0.44      0.95      0.61        21\n",
            "   talk.politics.mideast       1.00      0.78      0.88        18\n",
            "      talk.politics.misc       0.83      0.19      0.31        26\n",
            "      talk.religion.misc       0.00      0.00      0.00        14\n",
            "\n",
            "                accuracy                           0.64       500\n",
            "               macro avg       0.73      0.62      0.61       500\n",
            "            weighted avg       0.74      0.64      0.63       500\n",
            "\n"
          ]
        },
        {
          "output_type": "stream",
          "name": "stderr",
          "text": [
            "/usr/local/lib/python3.11/dist-packages/sklearn/metrics/_classification.py:1565: UndefinedMetricWarning: Precision is ill-defined and being set to 0.0 in labels with no predicted samples. Use `zero_division` parameter to control this behavior.\n",
            "  _warn_prf(average, modifier, f\"{metric.capitalize()} is\", len(result))\n",
            "/usr/local/lib/python3.11/dist-packages/sklearn/metrics/_classification.py:1565: UndefinedMetricWarning: Precision is ill-defined and being set to 0.0 in labels with no predicted samples. Use `zero_division` parameter to control this behavior.\n",
            "  _warn_prf(average, modifier, f\"{metric.capitalize()} is\", len(result))\n",
            "/usr/local/lib/python3.11/dist-packages/sklearn/metrics/_classification.py:1565: UndefinedMetricWarning: Precision is ill-defined and being set to 0.0 in labels with no predicted samples. Use `zero_division` parameter to control this behavior.\n",
            "  _warn_prf(average, modifier, f\"{metric.capitalize()} is\", len(result))\n"
          ]
        }
      ],
      "source": [
        "model = Pipeline([\n",
        "    ('tfidf', TfidfVectorizer()),\n",
        "    ('nb', MultinomialNB())\n",
        "])\n",
        "\n",
        "model.fit(Xtrain, ytrain)\n",
        "\n",
        "\n",
        "y_pred_nb = model.predict(Xtest)\n",
        "print(classification_report(ytest, y_pred_nb, target_names=test.target_names))"
      ]
    },
    {
      "cell_type": "markdown",
      "id": "90fe0d6a-bb47-40ba-8660-c1af8f35eeb9",
      "metadata": {
        "id": "90fe0d6a-bb47-40ba-8660-c1af8f35eeb9"
      },
      "source": [
        "### Random Search Cross-Validation [(Documentation)](https://scikit-learn.org/stable/modules/generated/sklearn.model_selection.RandomizedSearchCV.html)\n",
        "\n",
        "### Uniform distribution in `Scipy` [(Documentation)](https://docs.scipy.org/doc/scipy/reference/generated/scipy.stats.uniform.html)"
      ]
    },
    {
      "cell_type": "code",
      "execution_count": 4,
      "id": "1504c3fd",
      "metadata": {
        "colab": {
          "base_uri": "https://localhost:8080/"
        },
        "id": "1504c3fd",
        "outputId": "405808db-c97b-4ea0-b636-f4f9ee5d0bbc"
      },
      "outputs": [
        {
          "output_type": "stream",
          "name": "stdout",
          "text": [
            "                          precision    recall  f1-score   support\n",
            "\n",
            "             alt.atheism       0.79      0.52      0.63        21\n",
            "           comp.graphics       0.67      0.57      0.62        21\n",
            " comp.os.ms-windows.misc       0.60      0.58      0.59        26\n",
            "comp.sys.ibm.pc.hardware       0.71      0.71      0.71        34\n",
            "   comp.sys.mac.hardware       0.88      0.88      0.88        34\n",
            "          comp.windows.x       0.89      0.65      0.76        26\n",
            "            misc.forsale       0.94      0.77      0.85        22\n",
            "               rec.autos       0.80      1.00      0.89        28\n",
            "         rec.motorcycles       0.97      0.88      0.92        33\n",
            "      rec.sport.baseball       0.92      0.88      0.90        25\n",
            "        rec.sport.hockey       0.87      1.00      0.93        27\n",
            "               sci.crypt       0.79      0.95      0.86        20\n",
            "         sci.electronics       0.65      0.71      0.68        24\n",
            "                 sci.med       0.82      0.78      0.80        23\n",
            "               sci.space       0.83      0.86      0.84        28\n",
            "  soc.religion.christian       0.59      0.93      0.72        29\n",
            "      talk.politics.guns       0.50      0.95      0.66        21\n",
            "   talk.politics.mideast       0.95      1.00      0.97        18\n",
            "      talk.politics.misc       0.91      0.38      0.54        26\n",
            "      talk.religion.misc       1.00      0.07      0.13        14\n",
            "\n",
            "                accuracy                           0.77       500\n",
            "               macro avg       0.80      0.75      0.74       500\n",
            "            weighted avg       0.80      0.77      0.76       500\n",
            "\n",
            "Best alpha (random search): 0.041168988591604894\n"
          ]
        }
      ],
      "source": [
        "param_dist = {\n",
        "    'nb__alpha': uniform(loc=0, scale=2)\n",
        "}\n",
        "\n",
        "random_search = RandomizedSearchCV(\n",
        "    model,\n",
        "    param_distributions=param_dist,\n",
        "    n_iter=20,\n",
        "    cv=5,\n",
        "    scoring='f1_macro',\n",
        "    random_state=42,\n",
        "    n_jobs=-1\n",
        ")\n",
        "\n",
        "\n",
        "random_search.fit(Xtrain, ytrain)\n",
        "y_pred_random = random_search.predict(Xtest)\n",
        "print(classification_report(ytest, y_pred_random, target_names=test.target_names))\n",
        "print(\"Best alpha (random search):\", random_search.best_params_['nb__alpha'])"
      ]
    },
    {
      "cell_type": "markdown",
      "id": "74f7ad65-0b56-4987-9493-c5f06a7f481b",
      "metadata": {
        "id": "74f7ad65-0b56-4987-9493-c5f06a7f481b"
      },
      "source": [
        "#### Exercise\n",
        "\n",
        "1. For the Naive Bayes model, use grid search 5-fold cross-validation across different values of `alpha` to find the best model.\n",
        "\n",
        "2. For the best value of `alpha`, compute the `f1_macro` score on the test set.\n",
        "* What value of `alpha` did you obtain?\n",
        "* What is the model's `f1_macro` score?\n",
        "\n",
        "3. Repeat Exercise 1 and 2 for **random search** 5-fold cross validation across different values of `alpha`. Compute the `f1_macro` score on the test set.\n",
        "* What value of `alpha` did you obtain?\n",
        "* Did you get a better `f1_macro` score compared to grid search in Exercise 2?"
      ]
    },
    {
      "cell_type": "code",
      "execution_count": 5,
      "id": "ad742db6",
      "metadata": {
        "colab": {
          "base_uri": "https://localhost:8080/"
        },
        "id": "ad742db6",
        "outputId": "40b6788c-cba7-4c4c-d437-d2e3c216a610"
      },
      "outputs": [
        {
          "output_type": "stream",
          "name": "stdout",
          "text": [
            "Best alpha (grid search): 0.01\n",
            "f1_macro score (grid search): 0.7725871193182322\n",
            "Best alpha (random search): 0.041168988591604894\n",
            "f1_macro score (random search): 0.7436412921130966\n",
            "---------------------------------------------------------------------\n",
            "Grid search achieved a better f1_macro score.\n"
          ]
        }
      ],
      "source": [
        "param_grid = {\n",
        "    'nb__alpha': [0.01, 0.1, 0.5, 1.0, 1.5, 2.0]\n",
        "}\n",
        "grid_search = GridSearchCV(\n",
        "    model,\n",
        "    param_grid=param_grid,\n",
        "    cv=5,\n",
        "    scoring='f1_macro',\n",
        "    n_jobs=-1\n",
        ")\n",
        "grid_search.fit(Xtrain, ytrain)\n",
        "\n",
        "best_alpha_grid = grid_search.best_params_['nb__alpha']\n",
        "print(\"Best alpha (grid search):\", best_alpha_grid)\n",
        "\n",
        "y_pred_grid = grid_search.predict(Xtest)\n",
        "f1_grid = f1_score(ytest, y_pred_grid, average='macro')\n",
        "print(\"f1_macro score (grid search):\", f1_grid)\n",
        "\n",
        "\n",
        "best_alpha_random = random_search.best_params_['nb__alpha']\n",
        "print(\"Best alpha (random search):\", best_alpha_random)\n",
        "\n",
        "y_pred_random = random_search.predict(Xtest)\n",
        "f1_random = f1_score(ytest, y_pred_random, average='macro')\n",
        "print(\"f1_macro score (random search):\", f1_random)\n",
        "\n",
        "print('---------------------------------------------------------------------')\n",
        "if f1_random > f1_grid:\n",
        "    print(\"Random search achieved a better f1_macro score.\")\n",
        "\n",
        "print(\"Grid search achieved a better f1_macro score.\")"
      ]
    }
  ],
  "metadata": {
    "colab": {
      "provenance": [],
      "include_colab_link": true
    },
    "kernelspec": {
      "display_name": "env",
      "language": "python",
      "name": "python3"
    },
    "language_info": {
      "codemirror_mode": {
        "name": "ipython",
        "version": 3
      },
      "file_extension": ".py",
      "mimetype": "text/x-python",
      "name": "python",
      "nbconvert_exporter": "python",
      "pygments_lexer": "ipython3",
      "version": "3.13.5"
    }
  },
  "nbformat": 4,
  "nbformat_minor": 5
}